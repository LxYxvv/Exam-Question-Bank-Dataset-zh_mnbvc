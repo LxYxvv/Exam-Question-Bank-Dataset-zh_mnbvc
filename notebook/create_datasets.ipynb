{
 "cells": [
  {
   "cell_type": "code",
   "execution_count": 53,
   "id": "e004081c",
   "metadata": {},
   "outputs": [],
   "source": [
    "import datasets\n",
    "import glob"
   ]
  },
  {
   "cell_type": "code",
   "execution_count": 54,
   "id": "8fc35813",
   "metadata": {},
   "outputs": [],
   "source": [
    "train_dataset = {\"text\":[], \"label\":[]}"
   ]
  },
  {
   "cell_type": "code",
   "execution_count": 55,
   "id": "bd15cef2",
   "metadata": {},
   "outputs": [],
   "source": [
    "math_file_paths = glob.glob(\"../data/examination_paper_markdown\" + '/' + \"*.md\")\n",
    "\n",
    "for file_path in math_file_paths:\n",
    "    with open(file_path, \"r\", encoding=\"utf-8\") as f:\n",
    "        train_dataset[\"text\"].append(f.read())\n",
    "        train_dataset[\"label\"].append(1)"
   ]
  },
  {
   "cell_type": "code",
   "execution_count": 56,
   "id": "a07924dd",
   "metadata": {},
   "outputs": [],
   "source": [
    "math_file_paths = glob.glob(\"../data/not_examination_paper_markdown\" + '/' + \"*.md\")\n",
    "\n",
    "for file_path in math_file_paths:\n",
    "    with open(file_path, \"r\", encoding=\"utf-8\") as f:\n",
    "        train_dataset[\"text\"].append(f.read())\n",
    "        train_dataset[\"label\"].append(0)"
   ]
  },
  {
   "cell_type": "code",
   "execution_count": 57,
   "id": "84363373",
   "metadata": {},
   "outputs": [],
   "source": [
    "train_dataset = datasets.Dataset.from_dict(train_dataset)"
   ]
  },
  {
   "cell_type": "code",
   "execution_count": 58,
   "id": "667868c3",
   "metadata": {},
   "outputs": [
    {
     "data": {
      "text/plain": [
       "Dataset({\n",
       "    features: ['text', 'label'],\n",
       "    num_rows: 2773\n",
       "})"
      ]
     },
     "execution_count": 58,
     "metadata": {},
     "output_type": "execute_result"
    }
   ],
   "source": [
    "train_dataset"
   ]
  },
  {
   "cell_type": "code",
   "execution_count": 59,
   "id": "10ce09a1",
   "metadata": {},
   "outputs": [],
   "source": [
    "test_dataset = {\"text\":[], \"label\":[]}"
   ]
  },
  {
   "cell_type": "code",
   "execution_count": 60,
   "id": "096b5584",
   "metadata": {},
   "outputs": [],
   "source": [
    "math_file_paths = glob.glob(\"../data/test_examination_paper_markdown\" + '/' + \"*.md\")\n",
    "\n",
    "for file_path in math_file_paths:\n",
    "    with open(file_path, \"r\", encoding=\"utf-8\") as f:\n",
    "        test_dataset[\"text\"].append(f.read())\n",
    "        test_dataset[\"label\"].append(1)"
   ]
  },
  {
   "cell_type": "code",
   "execution_count": 61,
   "id": "07dac0c9",
   "metadata": {},
   "outputs": [],
   "source": [
    "math_file_paths = glob.glob(\"../data/test_not_examination_paper_markdown\" + '/' + \"*.md\")\n",
    "\n",
    "for file_path in math_file_paths:\n",
    "    with open(file_path, \"r\", encoding=\"utf-8\") as f:\n",
    "        test_dataset[\"text\"].append(f.read())\n",
    "        test_dataset[\"label\"].append(0)"
   ]
  },
  {
   "cell_type": "code",
   "execution_count": 62,
   "id": "7f2b08d4",
   "metadata": {},
   "outputs": [],
   "source": [
    "test_dataset = datasets.Dataset.from_dict(test_dataset)"
   ]
  },
  {
   "cell_type": "code",
   "execution_count": 63,
   "id": "e5441d91",
   "metadata": {},
   "outputs": [],
   "source": [
    "datadict = datasets.DatasetDict({\n",
    "    \"train\":train_dataset,\n",
    "    \"test\":test_dataset\n",
    "})"
   ]
  },
  {
   "cell_type": "code",
   "execution_count": 64,
   "id": "a169e2b7",
   "metadata": {},
   "outputs": [
    {
     "data": {
      "application/vnd.jupyter.widget-view+json": {
       "model_id": "",
       "version_major": 2,
       "version_minor": 0
      },
      "text/plain": [
       "Saving the dataset (0/1 shards):   0%|          | 0/2773 [00:00<?, ? examples/s]"
      ]
     },
     "metadata": {},
     "output_type": "display_data"
    },
    {
     "data": {
      "application/vnd.jupyter.widget-view+json": {
       "model_id": "",
       "version_major": 2,
       "version_minor": 0
      },
      "text/plain": [
       "Saving the dataset (0/1 shards):   0%|          | 0/392 [00:00<?, ? examples/s]"
      ]
     },
     "metadata": {},
     "output_type": "display_data"
    }
   ],
   "source": [
    "datadict.save_to_disk(\"./dataset\")"
   ]
  },
  {
   "cell_type": "code",
   "execution_count": null,
   "id": "5405c157",
   "metadata": {},
   "outputs": [],
   "source": []
  }
 ],
 "metadata": {
  "kernelspec": {
   "display_name": "Python 3 (ipykernel)",
   "language": "python",
   "name": "python3"
  },
  "language_info": {
   "codemirror_mode": {
    "name": "ipython",
    "version": 3
   },
   "file_extension": ".py",
   "mimetype": "text/x-python",
   "name": "python",
   "nbconvert_exporter": "python",
   "pygments_lexer": "ipython3",
   "version": "3.10.6"
  }
 },
 "nbformat": 4,
 "nbformat_minor": 5
}
